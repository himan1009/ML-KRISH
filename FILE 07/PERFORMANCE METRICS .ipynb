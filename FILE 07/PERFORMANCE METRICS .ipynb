{
 "cells": [
  {
   "cell_type": "markdown",
   "id": "5f037068",
   "metadata": {},
   "source": [
    "### PERFOMANCE METRICS ON MULTICLASS CLASSIFICATION PROBLEMS"
   ]
  },
  {
   "cell_type": "code",
   "execution_count": 1,
   "id": "6948e901",
   "metadata": {},
   "outputs": [],
   "source": [
    "from sklearn import metrics"
   ]
  },
  {
   "cell_type": "code",
   "execution_count": 2,
   "id": "517ad72a",
   "metadata": {},
   "outputs": [],
   "source": [
    "C=\"Cat\"\n",
    "D=\"Dog\"\n",
    "F=\"Fox\""
   ]
  },
  {
   "cell_type": "code",
   "execution_count": 4,
   "id": "38601c96",
   "metadata": {},
   "outputs": [
    {
     "name": "stdout",
     "output_type": "stream",
     "text": [
      "[[4 1 1]\n",
      " [3 6 1]\n",
      " [6 2 1]]\n",
      "              precision    recall  f1-score   support\n",
      "\n",
      "         Cat      0.308     0.667     0.421         6\n",
      "         Dog      0.667     0.600     0.632        10\n",
      "         Fox      0.333     0.111     0.167         9\n",
      "\n",
      "    accuracy                          0.440        25\n",
      "   macro avg      0.436     0.459     0.406        25\n",
      "weighted avg      0.461     0.440     0.414        25\n",
      "\n"
     ]
    }
   ],
   "source": [
    "## TRUE VALUES\n",
    "y_true=[C,C,C,C,C,C, F,F,F,F,F,F,F,F,F, D,D,D,D,D,D,D,D,D,D]\n",
    "## PREDICTED VALUES\n",
    "y_pred=[C,C,C,C,D,F, C,C,C,C,C,C,D,D,F,F, C,C,C,D,D,D,D,D,D]\n",
    "print(metrics.confusion_matrix(y_true,y_pred))\n",
    "print(metrics.classification_report(y_true,y_pred,digits=3))"
   ]
  }
 ],
 "metadata": {
  "kernelspec": {
   "display_name": "Python 3 (ipykernel)",
   "language": "python",
   "name": "python3"
  },
  "language_info": {
   "codemirror_mode": {
    "name": "ipython",
    "version": 3
   },
   "file_extension": ".py",
   "mimetype": "text/x-python",
   "name": "python",
   "nbconvert_exporter": "python",
   "pygments_lexer": "ipython3",
   "version": "3.11.5"
  }
 },
 "nbformat": 4,
 "nbformat_minor": 5
}
